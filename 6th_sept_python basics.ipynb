{
 "cells": [
  {
   "cell_type": "code",
   "execution_count": null,
   "id": "2736e2aa-f4f6-4287-ba78-1cb8991ee2b9",
   "metadata": {},
   "outputs": [],
   "source": [
    "# Declare two variable x and y and assign integer value to them"
   ]
  },
  {
   "cell_type": "code",
   "execution_count": 1,
   "id": "b2ab2db3-edff-4778-8ba6-c21538ad8abd",
   "metadata": {},
   "outputs": [],
   "source": [
    "x=5"
   ]
  },
  {
   "cell_type": "code",
   "execution_count": 4,
   "id": "812bf178-1973-4c28-9e44-bfee810ecdb2",
   "metadata": {},
   "outputs": [],
   "source": [
    "y=10"
   ]
  },
  {
   "cell_type": "code",
   "execution_count": null,
   "id": "a2e5170f-92ce-4a20-8da8-fc304f311289",
   "metadata": {},
   "outputs": [],
   "source": [
    "# swap the value without using temporary variable"
   ]
  },
  {
   "cell_type": "code",
   "execution_count": null,
   "id": "41682bb1-c7c8-4fe1-8acf-ea4cfc4d4efa",
   "metadata": {},
   "outputs": [],
   "source": [
    "print(\"before swap:\")"
   ]
  },
  {
   "cell_type": "code",
   "execution_count": 12,
   "id": "14014819-b092-4a18-8ad3-c0bd05245a87",
   "metadata": {},
   "outputs": [
    {
     "name": "stdout",
     "output_type": "stream",
     "text": [
      "x= 5\n"
     ]
    }
   ],
   "source": [
    "print(\"x=\",x)"
   ]
  },
  {
   "cell_type": "code",
   "execution_count": 13,
   "id": "6ba44f44-522e-4662-a172-c19f2647b729",
   "metadata": {},
   "outputs": [
    {
     "name": "stdout",
     "output_type": "stream",
     "text": [
      "y= 10\n"
     ]
    }
   ],
   "source": [
    "print(\"y=\",y)"
   ]
  },
  {
   "cell_type": "code",
   "execution_count": null,
   "id": "6776a548-77c2-4024-8f7f-97cb3e85ee83",
   "metadata": {},
   "outputs": [],
   "source": [
    "# After swapping the values"
   ]
  },
  {
   "cell_type": "code",
   "execution_count": 7,
   "id": "278c5200-1891-44f2-8323-0d7be205e8a5",
   "metadata": {},
   "outputs": [
    {
     "name": "stdout",
     "output_type": "stream",
     "text": [
      "after swap:\n"
     ]
    }
   ],
   "source": [
    "print(\"after swap:\")"
   ]
  },
  {
   "cell_type": "code",
   "execution_count": 10,
   "id": "f115373f-07b1-4e5d-9c48-44e5b4448fa9",
   "metadata": {},
   "outputs": [
    {
     "name": "stdout",
     "output_type": "stream",
     "text": [
      "x= 10\n"
     ]
    }
   ],
   "source": [
    "print(\"x=\",y)"
   ]
  },
  {
   "cell_type": "code",
   "execution_count": 14,
   "id": "106a6bbc-38ec-474f-be93-e44cbe6298b7",
   "metadata": {},
   "outputs": [
    {
     "name": "stdout",
     "output_type": "stream",
     "text": [
      "y= 5\n"
     ]
    }
   ],
   "source": [
    "print(\"y=\",x)"
   ]
  },
  {
   "cell_type": "code",
   "execution_count": 15,
   "id": "ce110f54-8f1e-4304-ae42-691ba89c3a61",
   "metadata": {},
   "outputs": [],
   "source": [
    "## 2. Create a program that calculates the area of a rectangle. Take the length and width as inputs from the user and store them in variables. Calculate and display the area."
   ]
  },
  {
   "cell_type": "code",
   "execution_count": null,
   "id": "dfb6da6c-d2cf-4f2f-b769-64a0aa8cd03a",
   "metadata": {},
   "outputs": [],
   "source": [
    "#get the input from the user "
   ]
  },
  {
   "cell_type": "code",
   "execution_count": null,
   "id": "987c56d2-7383-43ea-943c-c55ffa058080",
   "metadata": {},
   "outputs": [],
   "source": [
    "#float is used to convert the the input to floating point since the input value can be given in decimal"
   ]
  },
  {
   "cell_type": "code",
   "execution_count": 10,
   "id": "e90b75ff-5551-4611-82b9-4f593fcb67ee",
   "metadata": {},
   "outputs": [
    {
     "name": "stdin",
     "output_type": "stream",
     "text": [
      "Enter the length of the rectangle: 5\n"
     ]
    }
   ],
   "source": [
    "length = float(input(\"Enter the length of the rectangle:\"))"
   ]
  },
  {
   "cell_type": "code",
   "execution_count": 11,
   "id": "f91d393d-a181-4667-a5f3-cac66f172a4d",
   "metadata": {},
   "outputs": [
    {
     "name": "stdin",
     "output_type": "stream",
     "text": [
      "Enter the width of the rectangle: 10\n"
     ]
    }
   ],
   "source": [
    "width = float(input(\"Enter the width of the rectangle:\"))"
   ]
  },
  {
   "cell_type": "code",
   "execution_count": null,
   "id": "6934cba6-ffb7-4154-959e-d2ab7a956e44",
   "metadata": {},
   "outputs": [],
   "source": [
    "#calculate the area of the rectangle using the formula area = length * width."
   ]
  },
  {
   "cell_type": "code",
   "execution_count": 12,
   "id": "853c4d4d-13ad-448e-bd8f-5793b93cd857",
   "metadata": {},
   "outputs": [],
   "source": [
    "area = length * width"
   ]
  },
  {
   "cell_type": "code",
   "execution_count": 13,
   "id": "12850000-807e-4d4f-b067-aaadf37a5bfe",
   "metadata": {},
   "outputs": [
    {
     "name": "stdout",
     "output_type": "stream",
     "text": [
      "the area of the rectangle is : 50.0\n"
     ]
    }
   ],
   "source": [
    "print(\"the area of the rectangle is :\", area)"
   ]
  },
  {
   "cell_type": "code",
   "execution_count": null,
   "id": "59ffdbc0-1c6c-4fc8-bfb5-fa42bb819e27",
   "metadata": {},
   "outputs": [],
   "source": []
  },
  {
   "cell_type": "code",
   "execution_count": 14,
   "id": "d44aaaa2-8ab1-4a26-894a-b41bd3c06dd5",
   "metadata": {},
   "outputs": [],
   "source": [
    "###3. Write a Python program that converts temperatures from Celsius to Fahrenheit Take the temperature in Celsius as input, store it in a variable,convert it to Fahrenheit, and display the result."
   ]
  },
  {
   "cell_type": "code",
   "execution_count": 20,
   "id": "fa08787b-a203-476a-8817-3f64a4e4491c",
   "metadata": {},
   "outputs": [
    {
     "name": "stdin",
     "output_type": "stream",
     "text": [
      "Enter the temperature in celsius: 50\n"
     ]
    }
   ],
   "source": [
    "celsius = float(input(\"Enter the temperature in celsius:\"))"
   ]
  },
  {
   "cell_type": "code",
   "execution_count": 22,
   "id": "44a6c8de-f368-4737-aa93-b2945670d13f",
   "metadata": {},
   "outputs": [],
   "source": [
    "#covert celsius to fahrenheit using the formula. fahrenheit =( celsius * 9/5) +32"
   ]
  },
  {
   "cell_type": "code",
   "execution_count": null,
   "id": "c4231819-0a82-4678-9ced-d5c029eecc5f",
   "metadata": {},
   "outputs": [],
   "source": [
    "#f string is used to include the values of 'celsius' and 'fahrenheit'"
   ]
  },
  {
   "cell_type": "code",
   "execution_count": 18,
   "id": "0aefe2a5-abab-4ef5-b1c9-26df14e87d26",
   "metadata": {},
   "outputs": [],
   "source": [
    "fahrenheit = ( celsius * 9/5) +32"
   ]
  },
  {
   "cell_type": "code",
   "execution_count": 23,
   "id": "b3ed98df-c5bf-40c5-831f-6e83b9372aa5",
   "metadata": {},
   "outputs": [
    {
     "name": "stdout",
     "output_type": "stream",
     "text": [
      "celsius 50.0 degrees celsius is equal to 194.0 degrees fahrenheit\n"
     ]
    }
   ],
   "source": [
    "print(f\"celsius {celsius} degrees celsius is equal to {fahrenheit} degrees fahrenheit\")"
   ]
  },
  {
   "cell_type": "code",
   "execution_count": null,
   "id": "e00cac98-c973-44f3-b4c2-049742b2ec6c",
   "metadata": {},
   "outputs": [],
   "source": []
  },
  {
   "cell_type": "code",
   "execution_count": 24,
   "id": "bf7b2eda-30bd-4727-9f34-34813259e73f",
   "metadata": {},
   "outputs": [],
   "source": [
    "##Write a Python program that takes a string as input and prints the length ofthe string."
   ]
  },
  {
   "cell_type": "code",
   "execution_count": null,
   "id": "9ea4f6ed-5061-4730-8d10-5e6970f1ee2f",
   "metadata": {},
   "outputs": [],
   "source": [
    "#get the input from the user"
   ]
  },
  {
   "cell_type": "code",
   "execution_count": 25,
   "id": "07218cc1-43db-4ae6-a111-9f97929fae21",
   "metadata": {},
   "outputs": [
    {
     "name": "stdin",
     "output_type": "stream",
     "text": [
      "enter a string: Data Science\n"
     ]
    }
   ],
   "source": [
    "user_input = input(\"enter a string:\")"
   ]
  },
  {
   "cell_type": "code",
   "execution_count": null,
   "id": "80ce6e79-a61d-485f-a1e9-b9a5f0c0370b",
   "metadata": {},
   "outputs": [],
   "source": [
    "#calculate the length of the string"
   ]
  },
  {
   "cell_type": "code",
   "execution_count": 28,
   "id": "338a4479-a040-476c-8e11-0e32c2987637",
   "metadata": {},
   "outputs": [],
   "source": [
    "string_length =len(user_input)"
   ]
  },
  {
   "cell_type": "code",
   "execution_count": null,
   "id": "acee2a4c-647e-4749-a8d6-22436e23c49a",
   "metadata": {},
   "outputs": [],
   "source": [
    "#print the length of the string"
   ]
  },
  {
   "cell_type": "code",
   "execution_count": 31,
   "id": "0d69f96d-22b8-4efd-9acf-02c0a39d43d9",
   "metadata": {},
   "outputs": [
    {
     "name": "stdout",
     "output_type": "stream",
     "text": [
      "The length of the string is: 12\n"
     ]
    }
   ],
   "source": [
    "print(\"The length of the string is:\" , string_length)"
   ]
  },
  {
   "cell_type": "code",
   "execution_count": null,
   "id": "0eb6d879-a17a-4f2b-bb39-e280a3e49da0",
   "metadata": {},
   "outputs": [],
   "source": []
  },
  {
   "cell_type": "code",
   "execution_count": 80,
   "id": "d5aaafb3-ee81-4653-b366-82b55bb2c152",
   "metadata": {},
   "outputs": [],
   "source": [
    "##3.Given a string, reverse the order of characters using string slicing and printthe reversed string."
   ]
  },
  {
   "cell_type": "code",
   "execution_count": null,
   "id": "354e42d0-aa14-418a-a944-2f2b9a6030b0",
   "metadata": {},
   "outputs": [],
   "source": [
    "#user input"
   ]
  },
  {
   "cell_type": "code",
   "execution_count": 72,
   "id": "2cb1b55b-e4b9-4b3c-9a40-e0b60e53c681",
   "metadata": {},
   "outputs": [],
   "source": [
    "input_string = \"Data Sceince\""
   ]
  },
  {
   "cell_type": "code",
   "execution_count": null,
   "id": "ce688be1-9c5b-4cc0-8dd4-59c76ba4b576",
   "metadata": {},
   "outputs": [],
   "source": [
    "#reverse the string using slicing"
   ]
  },
  {
   "cell_type": "code",
   "execution_count": 79,
   "id": "8db4e3f3-8653-414b-8b4a-2e368d5c823d",
   "metadata": {},
   "outputs": [],
   "source": [
    "reversed_string = input_string [:: -1]"
   ]
  },
  {
   "cell_type": "code",
   "execution_count": null,
   "id": "fba1af02-a2b5-4482-89a4-ba74c356d572",
   "metadata": {},
   "outputs": [],
   "source": [
    "#print the reversed string"
   ]
  },
  {
   "cell_type": "code",
   "execution_count": 78,
   "id": "f8455bb4-f040-4fde-8700-d8e18d1a3084",
   "metadata": {},
   "outputs": [
    {
     "name": "stdout",
     "output_type": "stream",
     "text": [
      "ecniecS ataD\n"
     ]
    }
   ],
   "source": [
    "print(reversed_string)"
   ]
  },
  {
   "cell_type": "code",
   "execution_count": null,
   "id": "484aaf9b-b614-4b41-9c3a-89b585f6280e",
   "metadata": {},
   "outputs": [],
   "source": []
  },
  {
   "cell_type": "code",
   "execution_count": 81,
   "id": "1dded667-4bf6-4856-9d52-27b347516661",
   "metadata": {},
   "outputs": [],
   "source": [
    "##4. Write a program that takes a string as input and checks if it is a palindrome(reads the same forwards and backwards)."
   ]
  },
  {
   "cell_type": "code",
   "execution_count": null,
   "id": "3a8765e6-eb95-49f9-b502-c9743b891057",
   "metadata": {},
   "outputs": [],
   "source": [
    "#user input"
   ]
  },
  {
   "cell_type": "code",
   "execution_count": 84,
   "id": "98f8984f-2521-4d42-a29c-d272caebdab8",
   "metadata": {},
   "outputs": [],
   "source": [
    "input_string = \"python\""
   ]
  },
  {
   "cell_type": "code",
   "execution_count": null,
   "id": "93f10b83-70aa-4661-b1e4-09a55a0c5b0d",
   "metadata": {},
   "outputs": [],
   "source": [
    "#compare the strings using slicing"
   ]
  },
  {
   "cell_type": "code",
   "execution_count": null,
   "id": "0e74136e-dcec-4fa1-8fac-d4fbe40fd73f",
   "metadata": {},
   "outputs": [],
   "source": [
    "#if the string are equal. input string is palindrome otherwise it is not palindrome"
   ]
  },
  {
   "cell_type": "code",
   "execution_count": 86,
   "id": "09a06b98-eebc-4f96-b577-5ab0b84939c6",
   "metadata": {},
   "outputs": [],
   "source": [
    "input_string = input_string.replace(\" \", \"\").lower()"
   ]
  },
  {
   "cell_type": "code",
   "execution_count": 87,
   "id": "201f9fe3-a561-4973-8d38-d180dfc4dbff",
   "metadata": {},
   "outputs": [],
   "source": [
    "reversed_string = input_string [:: -1 ]"
   ]
  },
  {
   "cell_type": "code",
   "execution_count": null,
   "id": "e675cedb-a0c0-4dc1-920c-da3b78dd3076",
   "metadata": {},
   "outputs": [],
   "source": [
    "#if the result is true it prints the string as palindrome"
   ]
  },
  {
   "cell_type": "code",
   "execution_count": null,
   "id": "11794c49-f201-4202-b64f-047eb38264e1",
   "metadata": {},
   "outputs": [],
   "source": [
    "#if the result is false it prints the string as palindrome"
   ]
  },
  {
   "cell_type": "code",
   "execution_count": null,
   "id": "84c8939a-ed41-4b5f-bc50-f8cf452e6c33",
   "metadata": {},
   "outputs": [],
   "source": [
    "if reversed_string = input_string"
   ]
  },
  {
   "cell_type": "code",
   "execution_count": null,
   "id": "f4336965-ef45-4fd5-8dab-52550c5ab133",
   "metadata": {},
   "outputs": [],
   "source": [
    "print(\"the input string is palindrome\")"
   ]
  },
  {
   "cell_type": "code",
   "execution_count": null,
   "id": "fbc6c9d0-56c1-4636-865c-ecdd18c1be01",
   "metadata": {},
   "outputs": [],
   "source": [
    "else"
   ]
  },
  {
   "cell_type": "code",
   "execution_count": 90,
   "id": "f2f5b4cf-f4e8-4958-827d-e283fd4a2f86",
   "metadata": {},
   "outputs": [
    {
     "name": "stdout",
     "output_type": "stream",
     "text": [
      "the input string is not palindrome\n"
     ]
    }
   ],
   "source": [
    "print(\"the input string is not palindrome\")"
   ]
  },
  {
   "cell_type": "code",
   "execution_count": null,
   "id": "9d8a5598-caf9-4ab5-bb9a-201c25608b43",
   "metadata": {},
   "outputs": [],
   "source": []
  },
  {
   "cell_type": "code",
   "execution_count": 91,
   "id": "c18f5ddb-33a3-4be0-9483-38c45bb9fb1f",
   "metadata": {},
   "outputs": [],
   "source": [
    "##5.Create a program that takes a string as input and removes all the spaces from it. Print the modified string without spaces."
   ]
  },
  {
   "cell_type": "code",
   "execution_count": null,
   "id": "d680360f-0a8d-4389-9311-489fb4af5623",
   "metadata": {},
   "outputs": [],
   "source": [
    "#user input"
   ]
  },
  {
   "cell_type": "code",
   "execution_count": 100,
   "id": "52ac9074-e7c7-47ad-8f1e-00cb266eabee",
   "metadata": {},
   "outputs": [
    {
     "name": "stdin",
     "output_type": "stream",
     "text": [
      "enter a string: Machine learning\n"
     ]
    }
   ],
   "source": [
    "input_string= input(\"enter a string:\")"
   ]
  },
  {
   "cell_type": "code",
   "execution_count": null,
   "id": "3cff98d7-5ef8-478f-a821-f967fe34b16b",
   "metadata": {},
   "outputs": [],
   "source": [
    "#remove spaces using replace() and print it"
   ]
  },
  {
   "cell_type": "code",
   "execution_count": 101,
   "id": "3812f7f3-d46e-4742-840c-05256971bb37",
   "metadata": {},
   "outputs": [
    {
     "name": "stdout",
     "output_type": "stream",
     "text": [
      "Modified string without spaces: Machinelearning\n"
     ]
    }
   ],
   "source": [
    "print(\"Modified string without spaces:\", input_string.replace(\" \", \"\"))"
   ]
  },
  {
   "cell_type": "code",
   "execution_count": null,
   "id": "fd358a4c-85cc-43b8-bc91-27a812657931",
   "metadata": {},
   "outputs": [],
   "source": []
  }
 ],
 "metadata": {
  "kernelspec": {
   "display_name": "Python 3 (ipykernel)",
   "language": "python",
   "name": "python3"
  },
  "language_info": {
   "codemirror_mode": {
    "name": "ipython",
    "version": 3
   },
   "file_extension": ".py",
   "mimetype": "text/x-python",
   "name": "python",
   "nbconvert_exporter": "python",
   "pygments_lexer": "ipython3",
   "version": "3.10.8"
  }
 },
 "nbformat": 4,
 "nbformat_minor": 5
}
